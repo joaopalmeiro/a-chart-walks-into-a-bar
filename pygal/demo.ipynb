{
 "cells": [
  {
   "cell_type": "code",
   "execution_count": null,
   "id": "lightweight-encyclopedia",
   "metadata": {},
   "outputs": [],
   "source": [
    "import json\n",
    "\n",
    "from IPython.display import HTML, display\n",
    "\n",
    "import cairosvg\n",
    "import pygal"
   ]
  },
  {
   "cell_type": "code",
   "execution_count": null,
   "id": "addressed-sixth",
   "metadata": {},
   "outputs": [],
   "source": [
    "with open(\"data.json\", \"r\") as read_file:\n",
    "    data = json.load(read_file)\n",
    "\n",
    "with open(\"template.html\", \"r\") as read_file:\n",
    "    template = read_file.read()\n",
    "    \n",
    "labels = [datum[\"a\"] for datum in data]\n",
    "values = [datum[\"b\"] for datum in data]"
   ]
  },
  {
   "cell_type": "code",
   "execution_count": null,
   "id": "oriental-converter",
   "metadata": {},
   "outputs": [],
   "source": [
    "def render_inline(chart: pygal.Graph, html_template: str) -> None:\n",
    "    # Source: http://www.pygal.org/en/stable/documentation/web.html#directly-in-the-html\n",
    "    rendered_chart = chart.render()\n",
    "    plot_html = html_template.format(rendered_chart=rendered_chart)\n",
    "\n",
    "    display(HTML(plot_html))\n",
    "\n",
    "\n",
    "def export_png(\n",
    "    chart: pygal.Graph, filename: str, dpi: int = 72, scale: int = 5\n",
    ") -> None:\n",
    "    cairosvg.svg2png(bytestring=chart.render(), write_to=filename, dpi=dpi, scale=scale)"
   ]
  },
  {
   "cell_type": "code",
   "execution_count": null,
   "id": "metallic-drama",
   "metadata": {},
   "outputs": [],
   "source": [
    "bar_chart = pygal.Bar(\n",
    "    disable_xml_declaration=True, x_title=\"a\", y_title=\"b\", show_legend=False\n",
    ")\n",
    "bar_chart.x_labels = labels\n",
    "bar_chart.add(\"bar\", values)  # or None or \"\"\n",
    "# bar_chart.render_in_browser()\n",
    "# bar_chart.render()\n",
    "\n",
    "render_inline(bar_chart, template)"
   ]
  },
  {
   "cell_type": "code",
   "execution_count": null,
   "id": "disturbed-glasgow",
   "metadata": {},
   "outputs": [],
   "source": [
    "export_png(bar_chart, \"pygal-bar-chart.png\")"
   ]
  },
  {
   "cell_type": "markdown",
   "id": "fatty-observer",
   "metadata": {},
   "source": [
    "---"
   ]
  }
 ],
 "metadata": {
  "kernelspec": {
   "display_name": "Python 3",
   "language": "python",
   "name": "python3"
  },
  "language_info": {
   "codemirror_mode": {
    "name": "ipython",
    "version": 3
   },
   "file_extension": ".py",
   "mimetype": "text/x-python",
   "name": "python",
   "nbconvert_exporter": "python",
   "pygments_lexer": "ipython3",
   "version": "3.6.13"
  }
 },
 "nbformat": 4,
 "nbformat_minor": 5
}
